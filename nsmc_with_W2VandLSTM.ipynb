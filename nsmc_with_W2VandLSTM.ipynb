{
 "cells": [
  {
   "attachments": {},
   "cell_type": "markdown",
   "metadata": {},
   "source": [
    "# NSMC 네이버 영화리뷰 감성분석"
   ]
  },
  {
   "attachments": {},
   "cell_type": "markdown",
   "metadata": {},
   "source": [
    "- - -\n",
    "\n",
    "> **진행순서**\n",
    "\n",
    "    1. 영화리뷰데이터 EDA  \n",
    "        - 데이터 개수\n",
    "        - 라벨 비율 확인\n",
    "        - 평균 문장 길이 및 문장 길이 히스토그램\n",
    "\n",
    "    2. 전처리 데이터클리닝(data cleaning)\n",
    "        - 정규표현식을 이용하여 한국어가 아닌 글자 제외\n",
    "        - 중복데이터 삭제\n",
    "        - 결측데이터 살제\n",
    "        - 불용어 정의 및 제거(토큰화 한 후 불용어 제거)\n",
    "    \n",
    "    3. 토큰화\n",
    "        - 한국어 형태소분석기 비교\n",
    "            okt\n",
    "            mecab\n",
    "            komoran\n",
    "            kkma \n",
    "            hannanum  \n",
    "        - 토큰화 -> okt  \n",
    "\n",
    "    4. Text Embedding -> Word2Vec\n",
    "        - 희귀단어 정의\n",
    "        - 임베딩 벡터 학습 및 정의\n",
    "        - 빈 셈플 제거\n",
    "        - 패딩(Padding)  \n",
    "        \n",
    "    5. LSTM 모델학습   \n",
    "        - with Word2Vec\n",
    "        - without Word2Vec\n",
    "- - -"
   ]
  },
  {
   "attachments": {},
   "cell_type": "markdown",
   "metadata": {},
   "source": [
    "### 필요 라이브러리 설치 및 분석 환경 정보"
   ]
  },
  {
   "attachments": {},
   "cell_type": "markdown",
   "metadata": {},
   "source": [
    "**[가상환경]**  \n",
    "local에서 진행할 경우 아래 명령어로 가상환경 실행  \n",
    "```conda activate nsmc  ```\n",
    "\n",
    "**[사용한 환경 정보]**  \n",
    "파이썬 버전 : 3.7.13  \n",
    "tensorflow 버전 : 2.10"
   ]
  },
  {
   "cell_type": "code",
   "execution_count": 44,
   "metadata": {},
   "outputs": [],
   "source": [
    "import os \n",
    "\n",
    "# EDA\n",
    "import pandas as pd\n",
    "import numpy as np\n",
    "import seaborn as sns\n",
    "import matplotlib.pyplot as plt\n",
    "from wordcloud import WordCloud\n",
    "import json\n",
    "from matplotlib import font_manager, rc\n",
    "%matplotlib inline\n",
    "import warnings\n",
    "warnings.filterwarnings( 'ignore' )\n",
    "\n",
    "# 한글폰트 불러오기\n",
    "from matplotlib import font_manager, rc\n",
    "font_path = \"C:/Windows/Fonts/NGULIM.TTF\"\n",
    "font = font_manager.FontProperties(fname=font_path).get_name()\n",
    "rc('font', family=font)\n",
    "\n",
    "import pickle\n",
    "import re\n",
    "import string\n",
    "\n",
    "# preprocessing\n",
    "import konlpy\n",
    "import nltk\n",
    "from sklearn.feature_extraction.text import CountVectorizer, TfidfVectorizer\n",
    "from gensim.models import Word2Vec\n",
    "import gensim\n",
    "\n",
    "# modeling-ML\n",
    "from sklearn.pipeline import Pipeline\n",
    "from sklearn.linear_model import SGDClassifier\n",
    "from sklearn.svm import SVC\n",
    "from sklearn.naive_bayes import MultinomialNB\n",
    "\n",
    "# modeling-DL\n",
    "import tensorflow as tf\n",
    "from tensorflow.keras.models import Sequential\n",
    "from tensorflow.keras.preprocessing.text import Tokenizer\n",
    "from tensorflow.keras.preprocessing.sequence import pad_sequences\n",
    "from tensorflow.keras.layers import Dense, Embedding, LSTM"
   ]
  },
  {
   "attachments": {},
   "cell_type": "markdown",
   "metadata": {},
   "source": [
    "## 데이터 EDA"
   ]
  },
  {
   "cell_type": "code",
   "execution_count": 3,
   "metadata": {},
   "outputs": [
    {
     "data": {
      "text/html": [
       "<div>\n",
       "<style scoped>\n",
       "    .dataframe tbody tr th:only-of-type {\n",
       "        vertical-align: middle;\n",
       "    }\n",
       "\n",
       "    .dataframe tbody tr th {\n",
       "        vertical-align: top;\n",
       "    }\n",
       "\n",
       "    .dataframe thead th {\n",
       "        text-align: right;\n",
       "    }\n",
       "</style>\n",
       "<table border=\"1\" class=\"dataframe\">\n",
       "  <thead>\n",
       "    <tr style=\"text-align: right;\">\n",
       "      <th></th>\n",
       "      <th>id</th>\n",
       "      <th>document</th>\n",
       "      <th>label</th>\n",
       "    </tr>\n",
       "  </thead>\n",
       "  <tbody>\n",
       "    <tr>\n",
       "      <th>0</th>\n",
       "      <td>9976970</td>\n",
       "      <td>아 더빙.. 진짜 짜증나네요 목소리</td>\n",
       "      <td>0</td>\n",
       "    </tr>\n",
       "    <tr>\n",
       "      <th>1</th>\n",
       "      <td>3819312</td>\n",
       "      <td>흠...포스터보고 초딩영화줄....오버연기조차 가볍지 않구나</td>\n",
       "      <td>1</td>\n",
       "    </tr>\n",
       "    <tr>\n",
       "      <th>2</th>\n",
       "      <td>10265843</td>\n",
       "      <td>너무재밓었다그래서보는것을추천한다</td>\n",
       "      <td>0</td>\n",
       "    </tr>\n",
       "    <tr>\n",
       "      <th>3</th>\n",
       "      <td>9045019</td>\n",
       "      <td>교도소 이야기구먼 ..솔직히 재미는 없다..평점 조정</td>\n",
       "      <td>0</td>\n",
       "    </tr>\n",
       "    <tr>\n",
       "      <th>4</th>\n",
       "      <td>6483659</td>\n",
       "      <td>사이몬페그의 익살스런 연기가 돋보였던 영화!스파이더맨에서 늙어보이기만 했던 커스틴 ...</td>\n",
       "      <td>1</td>\n",
       "    </tr>\n",
       "  </tbody>\n",
       "</table>\n",
       "</div>"
      ],
      "text/plain": [
       "         id                                           document  label\n",
       "0   9976970                                아 더빙.. 진짜 짜증나네요 목소리      0\n",
       "1   3819312                  흠...포스터보고 초딩영화줄....오버연기조차 가볍지 않구나      1\n",
       "2  10265843                                  너무재밓었다그래서보는것을추천한다      0\n",
       "3   9045019                      교도소 이야기구먼 ..솔직히 재미는 없다..평점 조정      0\n",
       "4   6483659  사이몬페그의 익살스런 연기가 돋보였던 영화!스파이더맨에서 늙어보이기만 했던 커스틴 ...      1"
      ]
     },
     "execution_count": 3,
     "metadata": {},
     "output_type": "execute_result"
    }
   ],
   "source": [
    "# 네이버 영화리뷰 데이터 불러오기\n",
    "train = pd.read_table(r\"data\\nsmc\\ratings_train.txt\")\n",
    "test = pd.read_table(r\"data\\nsmc\\ratings_test.txt\")\n",
    "train.head()"
   ]
  },
  {
   "attachments": {},
   "cell_type": "markdown",
   "metadata": {},
   "source": [
    "### 데이터 개수 확인"
   ]
  },
  {
   "cell_type": "code",
   "execution_count": 4,
   "metadata": {},
   "outputs": [
    {
     "name": "stdout",
     "output_type": "stream",
     "text": [
      "(150000, 3)\n",
      "(50000, 3)\n"
     ]
    }
   ],
   "source": [
    "# 데이터 개수\n",
    "print(train.shape)\n",
    "print(test.shape)"
   ]
  },
  {
   "attachments": {},
   "cell_type": "markdown",
   "metadata": {},
   "source": [
    "### 라벨 비율 확인"
   ]
  },
  {
   "cell_type": "code",
   "execution_count": 5,
   "metadata": {},
   "outputs": [
    {
     "data": {
      "image/png": "[encoded data removed]",
      "text/plain": [
       "<Figure size 300x300 with 1 Axes>"
      ]
     },
     "metadata": {},
     "output_type": "display_data"
    }
   ],
   "source": [
    "# 라벨의 비율 확인\n",
    "# 0 : 부정, 1 : 긍정\n",
    "plt.figure(figsize=(3,3))\n",
    "sns.countplot(x='label',data=train)\n",
    "plt.title('라벨 분포')\n",
    "plt.show()"
   ]
  },
  {
   "cell_type": "code",
   "execution_count": 6,
   "metadata": {},
   "outputs": [
    {
     "data": {
      "image/png": "[encoded data removed]",
      "text/plain": [
       "<Figure size 300x300 with 1 Axes>"
      ]
     },
     "metadata": {},
     "output_type": "display_data"
    }
   ],
   "source": [
    "# 라벨 비율 확인\n",
    "labels = ['0','1']\n",
    "plt.figure(figsize=(3,3))\n",
    "plt.title('라벨 비율')\n",
    "plt.pie(train['label'].value_counts(), labels=labels, autopct='%.1f%%')\n",
    "plt.show()"
   ]
  },
  {
   "attachments": {},
   "cell_type": "markdown",
   "metadata": {},
   "source": [
    "### 평균 리뷰 길이 및 리뷰길이 히스토그램"
   ]
  },
  {
   "cell_type": "code",
   "execution_count": 7,
   "metadata": {},
   "outputs": [
    {
     "name": "stdout",
     "output_type": "stream",
     "text": [
      "리뷰의 최대 길이 : 146\n",
      "리뷰의 평균 길이 : 35.203453333333336\n"
     ]
    },
    {
     "data": {
      "image/png": "[encoded data removed]",
      "text/plain": [
       "<Figure size 640x480 with 1 Axes>"
      ]
     },
     "metadata": {},
     "output_type": "display_data"
    }
   ],
   "source": [
    "print('리뷰의 최대 길이 :', max([len(str(review)) for review in train['document']]))\n",
    "print('리뷰의 평균 길이 :', np.mean([len(str(review)) for review in train['document']]))\n",
    "plt.hist([len(str(review)) for review in train['document']])\n",
    "plt.xlabel('문장의 길이')\n",
    "plt.ylabel('샘플 개수')\n",
    "plt.show()"
   ]
  },
  {
   "attachments": {},
   "cell_type": "markdown",
   "metadata": {},
   "source": [
    "리뷰 길이의 최대 값은 146글자이며 평균은 35글자이다.  \n",
    "그러나 이후 전처리과정과 토크나이징을 처리를 한 후에 다시 확인해 볼 필요 있음."
   ]
  },
  {
   "attachments": {},
   "cell_type": "markdown",
   "metadata": {},
   "source": [
    "## 전처리(Preprocessing) , 데이터클리닝"
   ]
  },
  {
   "attachments": {},
   "cell_type": "markdown",
   "metadata": {},
   "source": [
    "전처리 순서 \n",
    "\n",
    "    1. 정규표현식을 이용하여 한국어를 제외한 글자 제거\n",
    "    2. 중복데이터 제거\n",
    "        1번 정제과정에서 데이터가 정제되면서 중복데이터가 생길 수 있기 때문에 정규표현식 정제를 먼저 해주었습니다.\n",
    "    3. 결측데이터 제거\n",
    "        2번 중복데이터 제거 후 공백 \" \" 데이터를 Nan데이터로 변환한 후 결측데이터를 제거 하였습니다.\n",
    "    4. 불용어 정의 및 제거(토큰화 한 후 불용어 제거)"
   ]
  },
  {
   "attachments": {},
   "cell_type": "markdown",
   "metadata": {},
   "source": [
    "### 1. 정규표현식 이용하여 한국어를 제외한 글자 제거"
   ]
  },
  {
   "cell_type": "code",
   "execution_count": 8,
   "metadata": {},
   "outputs": [],
   "source": [
    "train['document'] = train['document'].str.replace(\"[^ㄱ-ㅎㅏ-ㅣ가-힣 ]\",\"\")\n",
    "test['document'] = test['document'].str.replace(\"[^ㄱ-ㅎㅏ-ㅣ가-힣 ]\",\"\")"
   ]
  },
  {
   "attachments": {},
   "cell_type": "markdown",
   "metadata": {},
   "source": [
    "### 결측값 및 중복데이터 확인"
   ]
  },
  {
   "cell_type": "code",
   "execution_count": 9,
   "metadata": {},
   "outputs": [
    {
     "name": "stdout",
     "output_type": "stream",
     "text": [
      "train data 결측값 수: 5\n",
      "test data 결측값 수: 3\n"
     ]
    }
   ],
   "source": [
    "# 결측값 확인\n",
    "print('train data 결측값 수:', train['document'].isnull().sum())\n",
    "print('test data 결측값 수:', test['document'].isnull().sum()) "
   ]
  },
  {
   "cell_type": "code",
   "execution_count": 10,
   "metadata": {},
   "outputs": [
    {
     "name": "stdout",
     "output_type": "stream",
     "text": [
      "중복데이터 개수(train) : 6317\n"
     ]
    },
    {
     "data": {
      "text/html": [
       "<div>\n",
       "<style scoped>\n",
       "    .dataframe tbody tr th:only-of-type {\n",
       "        vertical-align: middle;\n",
       "    }\n",
       "\n",
       "    .dataframe tbody tr th {\n",
       "        vertical-align: top;\n",
       "    }\n",
       "\n",
       "    .dataframe thead th {\n",
       "        text-align: right;\n",
       "    }\n",
       "</style>\n",
       "<table border=\"1\" class=\"dataframe\">\n",
       "  <thead>\n",
       "    <tr style=\"text-align: right;\">\n",
       "      <th></th>\n",
       "      <th>id</th>\n",
       "      <th>document</th>\n",
       "      <th>label</th>\n",
       "    </tr>\n",
       "  </thead>\n",
       "  <tbody>\n",
       "    <tr>\n",
       "      <th>412</th>\n",
       "      <td>9509970</td>\n",
       "      <td></td>\n",
       "      <td>1</td>\n",
       "    </tr>\n",
       "    <tr>\n",
       "      <th>593</th>\n",
       "      <td>6478189</td>\n",
       "      <td></td>\n",
       "      <td>0</td>\n",
       "    </tr>\n",
       "    <tr>\n",
       "      <th>638</th>\n",
       "      <td>9364602</td>\n",
       "      <td></td>\n",
       "      <td>0</td>\n",
       "    </tr>\n",
       "    <tr>\n",
       "      <th>668</th>\n",
       "      <td>1600635</td>\n",
       "      <td></td>\n",
       "      <td>0</td>\n",
       "    </tr>\n",
       "    <tr>\n",
       "      <th>1058</th>\n",
       "      <td>5890638</td>\n",
       "      <td></td>\n",
       "      <td>0</td>\n",
       "    </tr>\n",
       "  </tbody>\n",
       "</table>\n",
       "</div>"
      ],
      "text/plain": [
       "           id document  label\n",
       "412   9509970               1\n",
       "593   6478189               0\n",
       "638   9364602               0\n",
       "668   1600635               0\n",
       "1058  5890638               0"
      ]
     },
     "execution_count": 10,
     "metadata": {},
     "output_type": "execute_result"
    }
   ],
   "source": [
    "# 중복데이터 확인-train\n",
    "print('중복데이터 개수(train) :',train[train['document'].duplicated()].shape[0])\n",
    "train[train['document'].duplicated()].head()"
   ]
  },
  {
   "cell_type": "code",
   "execution_count": 11,
   "metadata": {},
   "outputs": [
    {
     "name": "stdout",
     "output_type": "stream",
     "text": [
      "중복데이터 개수(test) : 1581\n"
     ]
    },
    {
     "data": {
      "text/html": [
       "<div>\n",
       "<style scoped>\n",
       "    .dataframe tbody tr th:only-of-type {\n",
       "        vertical-align: middle;\n",
       "    }\n",
       "\n",
       "    .dataframe tbody tr th {\n",
       "        vertical-align: top;\n",
       "    }\n",
       "\n",
       "    .dataframe thead th {\n",
       "        text-align: right;\n",
       "    }\n",
       "</style>\n",
       "<table border=\"1\" class=\"dataframe\">\n",
       "  <thead>\n",
       "    <tr style=\"text-align: right;\">\n",
       "      <th></th>\n",
       "      <th>id</th>\n",
       "      <th>document</th>\n",
       "      <th>label</th>\n",
       "    </tr>\n",
       "  </thead>\n",
       "  <tbody>\n",
       "    <tr>\n",
       "      <th>116</th>\n",
       "      <td>6910486</td>\n",
       "      <td></td>\n",
       "      <td>1</td>\n",
       "    </tr>\n",
       "    <tr>\n",
       "      <th>254</th>\n",
       "      <td>4976468</td>\n",
       "      <td></td>\n",
       "      <td>0</td>\n",
       "    </tr>\n",
       "    <tr>\n",
       "      <th>468</th>\n",
       "      <td>7517102</td>\n",
       "      <td></td>\n",
       "      <td>0</td>\n",
       "    </tr>\n",
       "    <tr>\n",
       "      <th>504</th>\n",
       "      <td>2096424</td>\n",
       "      <td></td>\n",
       "      <td>0</td>\n",
       "    </tr>\n",
       "    <tr>\n",
       "      <th>558</th>\n",
       "      <td>171480</td>\n",
       "      <td></td>\n",
       "      <td>1</td>\n",
       "    </tr>\n",
       "  </tbody>\n",
       "</table>\n",
       "</div>"
      ],
      "text/plain": [
       "          id document  label\n",
       "116  6910486               1\n",
       "254  4976468               0\n",
       "468  7517102               0\n",
       "504  2096424               0\n",
       "558   171480               1"
      ]
     },
     "execution_count": 11,
     "metadata": {},
     "output_type": "execute_result"
    }
   ],
   "source": [
    "# 중복데이터 확인 - test\n",
    "print('중복데이터 개수(test) :',test[test['document'].duplicated()].shape[0])\n",
    "test[test['document'].duplicated()].head()"
   ]
  },
  {
   "attachments": {},
   "cell_type": "markdown",
   "metadata": {},
   "source": [
    "### 2. 중복 데이터 제거\n"
   ]
  },
  {
   "cell_type": "code",
   "execution_count": 12,
   "metadata": {},
   "outputs": [
    {
     "name": "stdout",
     "output_type": "stream",
     "text": [
      "중복데이터 제거 후 데이터 수(train) : 143683\n",
      "중복데이터 제거 후 데이터 수(test) : 48419\n"
     ]
    }
   ],
   "source": [
    "train.drop_duplicates(subset=['document'], inplace=True)\n",
    "test.drop_duplicates(subset=['document'], inplace=True)\n",
    "\n",
    "print('중복데이터 제거 후 데이터 수(train) :',train.shape[0])\n",
    "print('중복데이터 제거 후 데이터 수(test) :',test.shape[0])"
   ]
  },
  {
   "attachments": {},
   "cell_type": "markdown",
   "metadata": {},
   "source": [
    "### 3. 결측값 제거"
   ]
  },
  {
   "cell_type": "code",
   "execution_count": 13,
   "metadata": {},
   "outputs": [
    {
     "name": "stdout",
     "output_type": "stream",
     "text": [
      "결측값 수(train) : 23\n",
      "결측값 수(test) : 16\n"
     ]
    }
   ],
   "source": [
    "train['document'] = train['document'].str.replace('^ +', \"\") # white space 데이터를 empty value로 변경\n",
    "train['document'].replace('', np.nan, inplace=True)\n",
    "test['document'] = test['document'].str.replace('^ +', \"\") # white space 데이터를 empty value로 변경\n",
    "test['document'].replace('', np.nan, inplace=True)\n",
    "\n",
    "print('결측값 수(train) :', train['document'].isnull().sum())\n",
    "print('결측값 수(test) :',test['document'].isnull().sum())"
   ]
  },
  {
   "cell_type": "code",
   "execution_count": 14,
   "metadata": {},
   "outputs": [
    {
     "name": "stdout",
     "output_type": "stream",
     "text": [
      "0\n",
      "0\n"
     ]
    }
   ],
   "source": [
    "# 결측값 제거\n",
    "train.dropna(how='any', inplace=True)\n",
    "test.dropna(how='any', inplace=True)\n",
    "\n",
    "print(train['document'].isnull().sum())\n",
    "print(test['document'].isnull().sum())"
   ]
  },
  {
   "cell_type": "code",
   "execution_count": 15,
   "metadata": {},
   "outputs": [
    {
     "name": "stdout",
     "output_type": "stream",
     "text": [
      "train : 143660\n",
      "test : 48403\n"
     ]
    }
   ],
   "source": [
    "# 총 데이터 수\n",
    "print('train :', train.shape[0])\n",
    "print('test :', test.shape[0])"
   ]
  },
  {
   "attachments": {},
   "cell_type": "markdown",
   "metadata": {},
   "source": [
    "### 4. 불용어 정의 및 제거"
   ]
  },
  {
   "attachments": {},
   "cell_type": "markdown",
   "metadata": {},
   "source": [
    "https://github.com/stopwords-iso/stopwords-ko  \n",
    "여기에 한국어 불용어에 대해서 정리를 해놓은 파일이 있다. \n",
    "\n",
    "여기에서 정의해 놓은 불용어를 사용하려 했으나 사용하지 않기로 하였음.\n",
    "\n",
    "그 이유는 리뷰데이터는 데이터 하나하나의 길이가 길지 않고 중요한 단어 하나 혹은 접속사나 조사에 의미를 담고 평가를 내리는 경우가 많다. 그러나 이 불용어 리스트에는 '메스껍다','결론을 낼 수 있다' 와 같이 영화에 대한 평가를 내리는데 중요한 단어, 표현들이 있기 때문에 사용하지 않기로 하였음.\n",
    "\n",
    "대신에 영화리뷰 데이터이므로 직접 보면서 불용어 리스트들을 정리해보았다. 이 부분은 개인적인 생각이기 때문에 보는 사람의 관점에 따라 의견이 다를수 있을것이다.\n",
    "\n",
    "실제 불용어 제거는 후에 토큰화 작업을 한 뒤에 할 계획이다. 지금은 띄어쓰기도 잘 되어있지 않은 데이터가 많고 오타도 많아 한국어 형태소분석기의 힘을 빌려 데이터를 더 정제한 뒤에 불용어를 제거하는 방식으로 진행해보겠다."
   ]
  },
  {
   "cell_type": "code",
   "execution_count": 16,
   "metadata": {},
   "outputs": [],
   "source": [
    "# 불용어 정의\n",
    "stopwords = ['의','가','이','은','들','는','좀','잘','걍','과','도','를','으로','자','에','와','한','하다','아니','및','아','혹시','흠']"
   ]
  },
  {
   "attachments": {},
   "cell_type": "markdown",
   "metadata": {},
   "source": [
    "## 토큰화"
   ]
  },
  {
   "attachments": {},
   "cell_type": "markdown",
   "metadata": {},
   "source": [
    "### 한국어 형태소분석기 비교"
   ]
  },
  {
   "attachments": {},
   "cell_type": "markdown",
   "metadata": {},
   "source": [
    "오픈된 한국어 형태소 분석기 중에서 5가지를 선택하였고 이 중에서 형태소 분석기를 비교해서 선택하겠다.\n",
    "1. OKT\n",
    "2. mecab\n",
    "3. komoran\n",
    "4. kkma\n",
    "5. hannanum\n",
    "\n",
    "모두 konlpy 라이브러리에서 사용 가능하며   \n",
    "특별히 mecab은 윈도우에서 사용하려면 별도의 설치작업이 필요하다. \n",
    "\n",
    "분석하려는 텍스트 데이터가 영화 리뷰이므로 이 데이터에 가장 잘 맞는 형태소 분석기를 선택하는 것도 중요하다. 띄어쓰기, 맞춤법, 은어들이 포함되어 있는 텍스트 이므로 이를 잘 분석해주는 형태소 분석기를 찾아보도록 하겠다."
   ]
  },
  {
   "cell_type": "code",
   "execution_count": 17,
   "metadata": {},
   "outputs": [],
   "source": [
    "# 토큰화 함수 정의\n",
    "\n",
    "okt = konlpy.tag.Okt()\n",
    "mecab = konlpy.tag.Mecab('C:\\mecab\\mecab-ko-dic')\n",
    "komoran = konlpy.tag.Komoran()\n",
    "kkma = konlpy.tag.Kkma()\n",
    "hannanum = konlpy.tag.Hannanum()\n",
    "\n",
    "tokenizer_list = [okt, mecab, komoran, kkma, hannanum]"
   ]
  },
  {
   "cell_type": "code",
   "execution_count": 18,
   "metadata": {},
   "outputs": [],
   "source": [
    "# 정상적인 데이터\n",
    "test1 = '난 정말 무서웠는데 스토리도 나름 괜찮았어요.'\n",
    "\n",
    "# 띄어쓰기가 제대로 되어 있지 않은 데이터\n",
    "test2 = '아진짜계속빵터졌음ㅋㅋ아너무재밌어'\n",
    "\n",
    "# 띄어쓰기 + 맞춤법이 제대로 되어 있지 않은 데이터\n",
    "test3 = '너무재밓었다그래서보는것을추천한다'\n",
    "\n",
    "# 띄어쓰기 + 맞춤법이 제대로 되어 있지 않은 데이터 2\n",
    "test4 = '알바넘티난다완전말투다비슷함짱웃경진짜이런게있구나 잼써도알바땜에기분나빠서안봄'"
   ]
  },
  {
   "cell_type": "code",
   "execution_count": 19,
   "metadata": {},
   "outputs": [
    {
     "name": "stdout",
     "output_type": "stream",
     "text": [
      "형태소분석기 : okt.Okt\n",
      " ['난', '정말', '무서웠는데', '스토리', '도', '나름', '괜찮았어요', '.'] \n",
      "\n",
      "형태소분석기 : mecab.Mecab\n",
      " ['난', '정말', '무서웠', '는데', '스토리', '도', '나름', '괜찮', '았', '어요', '.'] \n",
      "\n",
      "형태소분석기 : komoran.Komoran\n",
      " ['나', 'ㄴ', '정말', '무섭', '었', '는데', '스토리', '도', '나름', '괜찮', '았', '어요', '.'] \n",
      "\n",
      "형태소분석기 : kkma.Kkma\n",
      " ['나', '는', '정말', '무섭', '었', '는데', '스토리', '도', '나름', '괜찮', '았', '어요', '.'] \n",
      "\n",
      "형태소분석기 : hannanum.Hannanum\n",
      " ['나', 'ㄴ', '정말', '무섭', '었는데', '스토리', '도', '나름', '괜찮', '아아', '요', '.'] \n",
      "\n"
     ]
    }
   ],
   "source": [
    "# 난 정말 무서웠는데 스토리도 나름 괜찮았어요.\n",
    "for tokenizer in tokenizer_list:\n",
    "    print('형태소분석기 : {}\\n'.format(str(tokenizer.__class__)[20:-2]),tokenizer.morphs(test1),'\\n')"
   ]
  },
  {
   "cell_type": "code",
   "execution_count": 20,
   "metadata": {},
   "outputs": [
    {
     "name": "stdout",
     "output_type": "stream",
     "text": [
      "형태소분석기 : okt.Okt\n",
      " ['아', '진짜', '계속', '빵터졌음', 'ㅋㅋ', '아', '너무', '재밌어'] \n",
      "\n",
      "형태소분석기 : mecab.Mecab\n",
      " ['아', '진짜', '계속', '빵', '터졌', '음', 'ㅋㅋ', '아', '너무', '재밌', '어'] \n",
      "\n",
      "형태소분석기 : komoran.Komoran\n",
      " ['아진짜계속빵터졌음ㅋㅋ아너무재밌어'] \n",
      "\n",
      "형태소분석기 : kkma.Kkma\n",
      " ['아', '아', '진짜', '계속', '빵', '터지', '었', '음', 'ㅋㅋ', '아', '아', '너무', '재밌', '어'] \n",
      "\n",
      "형태소분석기 : hannanum.Hannanum\n",
      " ['아진짜계속빵터졌음ㅋㅋ아너무재밌어'] \n",
      "\n"
     ]
    }
   ],
   "source": [
    "# 아진짜계속빵터졌음ㅋㅋ아너무재밌어\n",
    "for tokenizer in tokenizer_list:\n",
    "    print('형태소분석기 : {}\\n'.format(str(tokenizer.__class__)[20:-2]),tokenizer.morphs(test2),'\\n')"
   ]
  },
  {
   "cell_type": "code",
   "execution_count": 21,
   "metadata": {},
   "outputs": [
    {
     "name": "stdout",
     "output_type": "stream",
     "text": [
      "형태소분석기 : okt.Okt\n",
      " ['너', '무재', '밓었', '다그', '래서', '보는것을', '추천', '한', '다'] \n",
      "\n",
      "형태소분석기 : mecab.Mecab\n",
      " ['너무', '재', '밓었다그래서보는것을추천한다'] \n",
      "\n",
      "형태소분석기 : komoran.Komoran\n",
      " ['너무재밓었다그래서보는것을추천한다'] \n",
      "\n",
      "형태소분석기 : kkma.Kkma\n",
      " ['너무', '재', '밓', '어', '었', '다', '그래서', '보', '는', '것', '을', '추천', '하', 'ㄴ다'] \n",
      "\n",
      "형태소분석기 : hannanum.Hannanum\n",
      " ['너무재밓었다그래서보는것을추천한다'] \n",
      "\n"
     ]
    }
   ],
   "source": [
    "# 너무재밓었다그래서보는것을추천한다\n",
    "for tokenizer in tokenizer_list:\n",
    "    print('형태소분석기 : {}\\n'.format(str(tokenizer.__class__)[20:-2]),tokenizer.morphs(test3),'\\n')"
   ]
  },
  {
   "cell_type": "code",
   "execution_count": 22,
   "metadata": {},
   "outputs": [
    {
     "name": "stdout",
     "output_type": "stream",
     "text": [
      "형태소분석기 : okt.Okt\n",
      " ['알바', '넘', '티', '난', '다완', '전', '말투', '다', '비슷함', '짱', '웃', '경', '진짜', '이런게', '있구나', '잼', '써도', '알바', '땜', '에', '기분', '나빠', '서안', '봄'] \n",
      "\n",
      "형태소분석기 : mecab.Mecab\n",
      " ['알', '바', '넘', '티', '난다', '완전', '말투', '다비', '슷함짱웃경진짜이런게있구나', '잼', '써도', '알', '바', '땜', '에', '기분', '나빠', '서안', '봄'] \n",
      "\n",
      "형태소분석기 : komoran.Komoran\n",
      " ['알바', '넘', '티나', 'ㄴ', '다완', '전', '말투', '다', '비슷', '하', 'ㅁ', '짱', '웃', '경', '진짜', '이렇', 'ㄴ', '게', '있', '구나', '재', 'ㅁ', '쓰', '어', '도', '알바', '땜', '에', '기분', '나쁘', '아서', '알', 'ㄴ', '봄'] \n",
      "\n",
      "형태소분석기 : kkma.Kkma\n",
      " ['알바', '넘', '티나', 'ㄴ다', '완전', '말투', '다', '비슷', '하', 'ㅁ', '짱웃', '경진', '짜', '아', '이렇', 'ㄴ', '것', '이', '있', '구', '나', '잼', '쓰', '어도', '알바', '땜', '에', '기분', '나쁘', '아서', '안', '봄'] \n",
      "\n",
      "형태소분석기 : hannanum.Hannanum\n",
      " ['알바넘티난다완전말투다비슷함짱웃경진짜이런게있구', '나', '잼써도알바땜에기분나빠서안봄'] \n",
      "\n"
     ]
    }
   ],
   "source": [
    "# 알바넘티난다완전말투다비슷함짱웃경진짜이런게있구나 잼써도알바땜에기분나빠서안봄\n",
    "for tokenizer in tokenizer_list:\n",
    "    print('형태소분석기 : {}\\n'.format(str(tokenizer.__class__)[20:-2]),tokenizer.morphs(test4),'\\n')"
   ]
  },
  {
   "attachments": {},
   "cell_type": "markdown",
   "metadata": {},
   "source": [
    "**<비교결과 및 형태소분석기 선정>**  \n",
    "\n",
    "\n",
    "여러가지 케이스로 형태소분석기들을 시험해 본 결과 **okt**와 **kkma**가 영화리뷰 데이터에는 적합한 것 같다.  \n",
    "띄어쓰기나 오타 및 맞춤법 오류를 다른 형태소분석기보다 잘 잡아내는 것을 확인할 수 있다.\n",
    "\n",
    "이 중에서 나는 **okt**를 사용하려 한다.\n",
    "\n",
    "그 이유는 속도에 있다.\n",
    "kkma가 너무 느리다.  \n",
    "konlpy 공식 홈페이지에 가면 형태소분석기 간 성능비교를 한 표가 있는데 이때 kkma는 속도가 다른 모델에 비해 너무 느린 것을 확인할 수 있었다.\n",
    "\n",
    "<img src=\"https://konlpy.org/ko/v0.4.3/_images/time.png\" width=\"500\">    \n",
    "\n",
    "https://konlpy.org/ko/v0.4.3/_images/time.png\n",
    "\n",
    "\n",
    "또 okt는 과거 트위터 형태소 분석기에서 발전한 모델이라고 한다.   \n",
    "트위터도 소셜텍스트이기 때문에 영화리뷰같은 오타, 띄어쓰기, 맞춤법이 잘 정제되지 않은 텍스트를 잘 분석할 수 있는 것 같다."
   ]
  },
  {
   "attachments": {},
   "cell_type": "markdown",
   "metadata": {},
   "source": [
    "### 토큰화(Tokenizing) - okt"
   ]
  },
  {
   "attachments": {},
   "cell_type": "markdown",
   "metadata": {},
   "source": [
    "- 한국어 형태소 분석기 okt.morphs를 이용한 토큰화 \n",
    "\n",
    "\n",
    "\tex - \t[\n",
    "\t\t\"더빙\",\n",
    "\t\t\"진짜\",\n",
    "\t\t\"짜증나네요\",\n",
    "\t\t\"목소리\"\n",
    "\t]\n",
    "\n",
    "\t\n",
    "- 토큰화 한 하면서 동시에 불용어 제거"
   ]
  },
  {
   "cell_type": "code",
   "execution_count": 23,
   "metadata": {},
   "outputs": [
    {
     "data": {
      "text/plain": [
       "['더빙', '진짜', '짜증나다', '목소리']"
      ]
     },
     "execution_count": 23,
     "metadata": {},
     "output_type": "execute_result"
    }
   ],
   "source": [
    "# stem 옵션은 아래 결과와 같이 일정 수준의 정규화를 수행해준다.\n",
    "# 짜증나네요 -> 짜증나다.\n",
    "okt.morphs('더빙 진짜 짜증나네요 목소리', stem=True)"
   ]
  },
  {
   "cell_type": "code",
   "execution_count": 24,
   "metadata": {},
   "outputs": [
    {
     "name": "stdout",
     "output_type": "stream",
     "text": [
      "load\n",
      "tokenizing train data finished\n",
      "load\n",
      "tokenizing test data finished\n"
     ]
    }
   ],
   "source": [
    "# okt - morphs\n",
    "if os.path.exists('tokenized_train_text_okt_wopos.json'):\n",
    "    print(\"load\")\n",
    "    with open('tokenized_train_text_okt_wopos.json', encoding='utf-8') as f:\n",
    "        X_train = json.load(f)\n",
    "else:\n",
    "    X_train = [[token for token in okt.morphs(doc, stem=True) if not token in stopwords] for doc in train['document']]\n",
    "    with open('tokenized_train_text_okt_wopos.json', 'w', encoding='utf-8') as f:\n",
    "        json.dump(X_train,  f, ensure_ascii=False, indent='\\t')\n",
    "print('tokenizing train data finished')\n",
    "\n",
    "if os.path.exists('tokenized_test_text_okt_wopos.json'):\n",
    "    print(\"load\")\n",
    "    with open('tokenized_test_text_okt_wopos.json', encoding='utf-8') as f:\n",
    "        X_test = json.load(f)\n",
    "else:\n",
    "    X_test = [[token for token in okt.morphs(doc, stem=True) if not token in stopwords] for doc in test['document']]\n",
    "    with open('tokenized_test_text_okt_wopos.json', 'w', encoding='utf-8') as f:\n",
    "        json.dump(X_test, f, ensure_ascii=False, indent='\\t')\n",
    "print('tokenizing test data finished')\n"
   ]
  },
  {
   "attachments": {},
   "cell_type": "markdown",
   "metadata": {},
   "source": [
    "## Text Embedding -> Word2Vec"
   ]
  },
  {
   "attachments": {},
   "cell_type": "markdown",
   "metadata": {},
   "source": [
    "### 희귀단어 정의"
   ]
  },
  {
   "attachments": {},
   "cell_type": "markdown",
   "metadata": {},
   "source": [
    "Word2Vec로 단어들을 임베딩 하기전에 자주 쓰이지 않았던 단어들은 큰 의미가 없을것이라 생각하여 제외하는 과정을 추가하였습니다.\n",
    "\n",
    "전체 문서에서 5번 미만 나온 단어를 희귀단어라고 정의했을 때\n",
    "\n",
    "전체 단어 집합에서 희귀단어의 비율은 67% \n",
    "전체 문서에서 희귀단어가 등장하는 비율은 2.98% 이다.  \n",
    "\n",
    "단어의 개수는 많이 줄어들겠지만  \n",
    "영화 리뷰라는 한정적인 도메인에서 쓰이는 단어만 쓰인다는 부분과 \n",
    "학습의 효율성을 고려하여 제외하도록 하였습니다. "
   ]
  },
  {
   "cell_type": "code",
   "execution_count": 25,
   "metadata": {},
   "outputs": [
    {
     "name": "stdout",
     "output_type": "stream",
     "text": [
      "단어 개수 : 43748\n"
     ]
    }
   ],
   "source": [
    "tokenizer = Tokenizer()\n",
    "tokenizer.fit_on_texts(X_train)\n",
    "total_cnt = len(tokenizer.word_index) # 단어의 수\n",
    "print('단어 개수 :',total_cnt)"
   ]
  },
  {
   "cell_type": "code",
   "execution_count": 26,
   "metadata": {},
   "outputs": [
    {
     "name": "stdout",
     "output_type": "stream",
     "text": [
      "단어 집합(vocabulary)의 크기 : 43748\n",
      "등장 빈도가 4번 이하인 희귀 단어의 수: 29516\n",
      "단어 집합에서 희귀 단어의 비율: 67.468227118954\n",
      "전체 등장 빈도에서 희귀 단어 등장 빈도 비율: 2.9837862017793904\n"
     ]
    }
   ],
   "source": [
    "threshold = 5\n",
    "total_cnt = len(tokenizer.word_index) # 단어의 수\n",
    "rare_cnt = 0 # 등장 빈도수가 threshold보다 작은 단어의 개수를 카운트\n",
    "total_freq = 0 # 훈련 데이터의 전체 단어 빈도수 총 합\n",
    "rare_freq = 0 # 등장 빈도수가 threshold보다 작은 단어의 등장 빈도수의 총 합\n",
    "\n",
    "# 단어와 빈도수의 쌍(pair)을 key와 value로 받는다.\n",
    "for key, value in tokenizer.word_counts.items():\n",
    "    total_freq = total_freq + value\n",
    "\n",
    "    # 단어의 등장 빈도수가 threshold보다 작으면\n",
    "    if(value < threshold):\n",
    "        rare_cnt = rare_cnt + 1\n",
    "        rare_freq = rare_freq + value\n",
    "\n",
    "print('단어 집합(vocabulary)의 크기 :',total_cnt)\n",
    "print('등장 빈도가 %s번 이하인 희귀 단어의 수: %s'%(threshold - 1, rare_cnt))\n",
    "print(\"단어 집합에서 희귀 단어의 비율:\", (rare_cnt / total_cnt)*100)\n",
    "print(\"전체 등장 빈도에서 희귀 단어 등장 빈도 비율:\", (rare_freq / total_freq)*100)"
   ]
  },
  {
   "attachments": {},
   "cell_type": "markdown",
   "metadata": {},
   "source": [
    "### Word2Vec 임베딩 벡터 학습 및 정의.\n",
    "\n",
    "앞서 논의했듯 5개 미만으로 등장하는 희귀단어는 제외하기 위해서 min_count옵션을 5로 두고 학습하였습니다."
   ]
  },
  {
   "cell_type": "code",
   "execution_count": 27,
   "metadata": {},
   "outputs": [
    {
     "name": "stdout",
     "output_type": "stream",
     "text": [
      "(14232, 300) \n",
      "\n",
      "[('한석규', 0.7892199754714966), ('안성기', 0.7553542852401733), ('설경구', 0.7431440949440002), ('워싱턴', 0.7188030481338501), ('베이컨', 0.718478798866272), ('류덕환', 0.71726393699646), ('이정재', 0.7093364596366882), ('스트립', 0.7090847492218018), ('송강호', 0.7044193744659424), ('채민서', 0.7038134336471558)] \n",
      "\n",
      "[('졸리다', 0.5597388744354248), ('시시하다', 0.5430570244789124), ('짜증나다', 0.5300896167755127), ('심각하다', 0.5012387037277222), ('화나다', 0.48973187804222107), ('노잼', 0.472282350063324), ('졸다', 0.4663607180118561), ('참고', 0.463992178440094), ('유치하다', 0.4544386863708496), ('지루하다', 0.4529646635055542)] \n",
      "\n",
      "[('슬래셔', 0.7835956811904907), ('무협', 0.7697320580482483), ('괴수', 0.7579325437545776), ('느와르', 0.7369807958602905), ('뱀파이어', 0.735053300857544), ('갱스터', 0.7316623330116272), ('원조', 0.7287888526916504), ('물', 0.7216478586196899), ('로코', 0.7207579016685486), ('물의', 0.717576265335083)] \n",
      "\n"
     ]
    },
    {
     "data": {
      "text/plain": [
       "14233"
      ]
     },
     "execution_count": 27,
     "metadata": {},
     "output_type": "execute_result"
    }
   ],
   "source": [
    "# word2vec 임베딩 벡터 만들기\n",
    "w2vmodel_wopos = Word2Vec(sentences=X_train, size=300, window=5, min_count=5, iter=10)\n",
    "print(w2vmodel_wopos.wv.vectors.shape,'\\n')\n",
    "print(w2vmodel_wopos.wv.most_similar('최민식'),'\\n')\n",
    "print(w2vmodel_wopos.wv.most_similar('재미없다'),'\\n')\n",
    "print(w2vmodel_wopos.wv.most_similar('히어로'),'\\n')\n",
    "vocab_size = w2vmodel_wopos.wv.vectors.shape[0]+1\n",
    "vocab_size"
   ]
  },
  {
   "cell_type": "code",
   "execution_count": 28,
   "metadata": {},
   "outputs": [
    {
     "name": "stdout",
     "output_type": "stream",
     "text": [
      "(14233, 300)\n"
     ]
    }
   ],
   "source": [
    "embedding_matrix = np.zeros((vocab_size, 300))\n",
    "print(np.shape(embedding_matrix)) # (14233, 300)\n",
    "\n",
    "def get_vectors(w2v_model, word):\n",
    "    if word in w2v_model:\n",
    "        return w2v_model[word]\n",
    "    else:\n",
    "        None\n",
    "\n",
    "# # 단어 집합 크기의 행과 300개의 열을 가지는 행렬 생성. 값은 전부 0으로 채워진다.\n",
    "for word, i in tokenizer.word_index.items():\n",
    "    temp = get_vectors(w2vmodel_wopos, word)\n",
    "    if temp is not None:\n",
    "        embedding_matrix[i] = temp\n"
   ]
  },
  {
   "attachments": {},
   "cell_type": "markdown",
   "metadata": {},
   "source": [
    "임베딩벡터의 전체 단어 개수는 14233개가 나왔습니다.  \n",
    "\n",
    "이제 훈련데이터를 임베딩벡터의 단어 개수만큼 정수 인덱싱 할 수 있도록 토크나이저 객체를 다시 설정합니다."
   ]
  },
  {
   "cell_type": "code",
   "execution_count": 29,
   "metadata": {},
   "outputs": [
    {
     "name": "stdout",
     "output_type": "stream",
     "text": [
      "[454, 16, 261, 658]\n",
      "[768, 87]\n"
     ]
    }
   ],
   "source": [
    "tokenizer = Tokenizer(vocab_size)\n",
    "tokenizer.fit_on_texts(X_train)\n",
    "# 텍스트 데이터 인코딩작업\n",
    "X_train = tokenizer.texts_to_sequences(X_train)\n",
    "X_test = tokenizer.texts_to_sequences(X_test)\n",
    "print(X_train[0])\n",
    "print(X_test[0])"
   ]
  },
  {
   "cell_type": "code",
   "execution_count": 30,
   "metadata": {},
   "outputs": [],
   "source": [
    "y_train = np.array(train['label'])\n",
    "y_test = np.array(test['label'])"
   ]
  },
  {
   "attachments": {},
   "cell_type": "markdown",
   "metadata": {},
   "source": [
    "### 빈 셈플 제거"
   ]
  },
  {
   "attachments": {},
   "cell_type": "markdown",
   "metadata": {},
   "source": [
    "전체 데이터에서 빈도수가 낮은 단어가 삭제되었다는 것은 희귀단어로만 이루어진 데이터가 삭제되었을 수도 있습니다.\n",
    "\n",
    "삭제되었다면 아무런 텍스트정보가 없는 빈 데이터가 될 것이고\n",
    "\n",
    "라벨이 붙어있다 하더라도 의미가 없으므로 제거합니다."
   ]
  },
  {
   "cell_type": "code",
   "execution_count": 31,
   "metadata": {},
   "outputs": [
    {
     "name": "stdout",
     "output_type": "stream",
     "text": [
      "327\n"
     ]
    }
   ],
   "source": [
    "# 단어개수(vocab size)를 줄이면서 생긴 빈 샘플의 수\n",
    "drop_train = [index for index, sentence in enumerate(X_train) if len(sentence) < 1]\n",
    "print(len(drop_train))"
   ]
  },
  {
   "cell_type": "code",
   "execution_count": 32,
   "metadata": {},
   "outputs": [
    {
     "name": "stdout",
     "output_type": "stream",
     "text": [
      "143660\n",
      "143333\n",
      "143333\n"
     ]
    }
   ],
   "source": [
    "# 빈 셈플 제거\n",
    "print(len(X_train))\n",
    "X_train = np.delete(X_train, drop_train, axis=0)\n",
    "y_train = np.delete(y_train, drop_train, axis=0)\n",
    "print(len(X_train))\n",
    "print(len(y_train))"
   ]
  },
  {
   "attachments": {},
   "cell_type": "markdown",
   "metadata": {},
   "source": [
    "### 패딩(Padding)\n",
    "\n",
    "리뷰마다 단어의 개수가 다르다는 것은 당연한 사실.  \n",
    "그러나 lstm의 모델에 input으로 넣기 위해서는 모든 데이터들의 차원을 통일시킬 필요가 있다.  \n",
    "이를 위해서 사용하는 기법이 패딩이고  \n",
    "얼만큼의 리뷰길이가 적절한지 알아보자  "
   ]
  },
  {
   "cell_type": "code",
   "execution_count": 33,
   "metadata": {},
   "outputs": [
    {
     "name": "stdout",
     "output_type": "stream",
     "text": [
      "리뷰의 최대 길이 : 69\n",
      "리뷰의 평균 길이 : 10.773352961285957\n"
     ]
    },
    {
     "data": {
      "image/png": "[encoded data removed]",
      "text/plain": [
       "<Figure size 640x480 with 1 Axes>"
      ]
     },
     "metadata": {},
     "output_type": "display_data"
    }
   ],
   "source": [
    "print('리뷰의 최대 길이 :',max(len(review) for review in X_train))\n",
    "print('리뷰의 평균 길이 :',sum(map(len, X_train))/len(X_train))\n",
    "plt.hist([len(review) for review in X_train], bins=50)\n",
    "plt.xlabel('length of samples')\n",
    "plt.ylabel('number of samples')\n",
    "plt.show()"
   ]
  },
  {
   "cell_type": "code",
   "execution_count": 34,
   "metadata": {},
   "outputs": [
    {
     "name": "stdout",
     "output_type": "stream",
     "text": [
      "전체 샘플 중 길이가 30 이하인 샘플의 비율: 94.43533589612998\n"
     ]
    }
   ],
   "source": [
    "def below_threshold_len(max_len, nested_list):\n",
    "    count = 0\n",
    "    for sentence in nested_list:\n",
    "        if(len(sentence) <= max_len):\n",
    "            count = count + 1\n",
    "    print('전체 샘플 중 길이가 %s 이하인 샘플의 비율: %s'%(max_len, (count / len(nested_list))*100))\n",
    "\n",
    "max_len = 30\n",
    "below_threshold_len(max_len, X_train)\n"
   ]
  },
  {
   "cell_type": "code",
   "execution_count": 35,
   "metadata": {},
   "outputs": [
    {
     "name": "stdout",
     "output_type": "stream",
     "text": [
      "[  0   0   0   0   0   0   0   0   0   0   0   0   0   0   0   0   0   0\n",
      "   0   0   0   0   0   0   0   0 454  16 261 658]\n",
      "[  0   0   0   0   0   0   0   0   0   0   0   0   0   0   0   0   0   0\n",
      "   0   0   0   0   0   0   0   0   0   0 768  87]\n"
     ]
    }
   ],
   "source": [
    "X_train = pad_sequences(X_train, maxlen=max_len)\n",
    "X_test = pad_sequences(X_test, maxlen=max_len)\n",
    "print(X_train[0])\n",
    "print(X_test[0])\n"
   ]
  },
  {
   "attachments": {},
   "cell_type": "markdown",
   "metadata": {},
   "source": [
    "전체 길이가 30개 이하인 리뷰가 약 95%정도 된다.  \n",
    "\n",
    "따라서 모든 리뷰길이를 30으로 통일시켜 패딩작업을 하였습니다."
   ]
  },
  {
   "attachments": {},
   "cell_type": "markdown",
   "metadata": {},
   "source": [
    "## LSTM 모델 학습"
   ]
  },
  {
   "attachments": {},
   "cell_type": "markdown",
   "metadata": {},
   "source": [
    "### LSTM 모델 with Word2Vec"
   ]
  },
  {
   "cell_type": "code",
   "execution_count": 36,
   "metadata": {},
   "outputs": [],
   "source": [
    "# 하이퍼 파라미터 설정\n",
    "batch_size = 128\n",
    "EPOCHS = 15\n",
    "\n",
    "checkpoint_path = 'results/lstm_w2v.ckpt'\n",
    "checkpoint_dir = os.path.dirname(checkpoint_path)# Create a callback that saves the model's weights\n",
    "cp_callback = tf.keras.callbacks.ModelCheckpoint(filepath=checkpoint_path,\n",
    "                                save_weights_only=True,\n",
    "                                verbose=1)# Train the model with the new callback\n",
    "\n",
    "earlystopper = tf.keras.callbacks.EarlyStopping(monitor=\"val_loss\", patience=3, verbose=1)"
   ]
  },
  {
   "cell_type": "code",
   "execution_count": 37,
   "metadata": {},
   "outputs": [
    {
     "name": "stdout",
     "output_type": "stream",
     "text": [
      "Model: \"sequential\"\n",
      "_________________________________________________________________\n",
      " Layer (type)                Output Shape              Param #   \n",
      "=================================================================\n",
      " embedding (Embedding)       (None, 30, 300)           4269900   \n",
      "                                                                 \n",
      " lstm (LSTM)                 (None, 128)               219648    \n",
      "                                                                 \n",
      " dense (Dense)               (None, 64)                8256      \n",
      "                                                                 \n",
      " dense_1 (Dense)             (None, 1)                 65        \n",
      "                                                                 \n",
      "=================================================================\n",
      "Total params: 4,497,869\n",
      "Trainable params: 227,969\n",
      "Non-trainable params: 4,269,900\n",
      "_________________________________________________________________\n",
      "None\n",
      "Epoch 1/15\n",
      "893/896 [============================>.] - ETA: 0s - loss: 0.3848 - accuracy: 0.8237\n",
      "Epoch 1: saving model to results\\lstm_w2v.ckpt\n",
      "896/896 [==============================] - 52s 55ms/step - loss: 0.3849 - accuracy: 0.8237 - val_loss: 0.3557 - val_accuracy: 0.8400\n",
      "Epoch 2/15\n",
      "894/896 [============================>.] - ETA: 0s - loss: 0.3428 - accuracy: 0.8458\n",
      "Epoch 2: saving model to results\\lstm_w2v.ckpt\n",
      "896/896 [==============================] - 46s 51ms/step - loss: 0.3428 - accuracy: 0.8458 - val_loss: 0.3402 - val_accuracy: 0.8485\n",
      "Epoch 3/15\n",
      "894/896 [============================>.] - ETA: 0s - loss: 0.3194 - accuracy: 0.8586\n",
      "Epoch 3: saving model to results\\lstm_w2v.ckpt\n",
      "896/896 [==============================] - 43s 48ms/step - loss: 0.3195 - accuracy: 0.8587 - val_loss: 0.3340 - val_accuracy: 0.8513\n",
      "Epoch 4/15\n",
      "896/896 [==============================] - ETA: 0s - loss: 0.3000 - accuracy: 0.8689\n",
      "Epoch 4: saving model to results\\lstm_w2v.ckpt\n",
      "896/896 [==============================] - 34s 38ms/step - loss: 0.3000 - accuracy: 0.8689 - val_loss: 0.3341 - val_accuracy: 0.8562\n",
      "Epoch 5/15\n",
      "896/896 [==============================] - ETA: 0s - loss: 0.2812 - accuracy: 0.8775\n",
      "Epoch 5: saving model to results\\lstm_w2v.ckpt\n",
      "896/896 [==============================] - 39s 44ms/step - loss: 0.2812 - accuracy: 0.8775 - val_loss: 0.3382 - val_accuracy: 0.8563\n",
      "Epoch 6/15\n",
      "893/896 [============================>.] - ETA: 0s - loss: 0.2641 - accuracy: 0.8862\n",
      "Epoch 6: saving model to results\\lstm_w2v.ckpt\n",
      "896/896 [==============================] - 41s 46ms/step - loss: 0.2641 - accuracy: 0.8863 - val_loss: 0.3458 - val_accuracy: 0.8527\n",
      "Epoch 6: early stopping\n",
      "379/379 [==============================] - 14s 36ms/step - loss: 0.3475 - accuracy: 0.8486\n",
      "Test Score:  0.3475378453731537\n",
      "Test Accuracy:  0.8486457467079163\n"
     ]
    }
   ],
   "source": [
    "# Modeling - lstm with word2vec\n",
    "model = Sequential()\n",
    "model.add(Embedding(vocab_size, 300, weights=[embedding_matrix], input_length=max_len, trainable=False)) # weights를 미리 학습해둔 embedding_matrix로 설정하고 trainable옵션은 False로 하여 학습된 벡터를 사용하도록 한다.\n",
    "model.add(LSTM(128, dropout=0.2))\n",
    "model.add(Dense(64, activation = 'tanh'))\n",
    "model.add(Dense(1, activation = 'sigmoid'))\n",
    "print(model.summary())\n",
    "\n",
    "# 모델 컴파일\n",
    "model.compile(optimizer='adam', loss='binary_crossentropy', metrics=['accuracy'])\n",
    "\n",
    "# 학습\n",
    "history = model.fit(X_train, y_train, epochs=EPOCHS, callbacks=[earlystopper,cp_callback], batch_size=batch_size, validation_split=0.2)\n",
    "\n",
    "# Model Test\n",
    "score, acc = model.evaluate(X_test, y_test, batch_size=batch_size)\n",
    "\n",
    "# Model Save\n",
    "model.save('results/lstm_w2v.h5')\n",
    "\n",
    "# score\n",
    "print(\"Test Score: \", score)\n",
    "print(\"Test Accuracy: \", acc)"
   ]
  },
  {
   "cell_type": "code",
   "execution_count": 43,
   "metadata": {},
   "outputs": [
    {
     "name": "stdout",
     "output_type": "stream",
     "text": [
      "Test Score:  0.46160492300987244\n",
      "Test Accuracy:  0.8427577018737793\n"
     ]
    }
   ],
   "source": [
    "\n",
    "# score\n",
    "print(\"Test Score: \", score)\n",
    "print(\"Test Accuracy: \", acc)"
   ]
  },
  {
   "attachments": {},
   "cell_type": "markdown",
   "metadata": {},
   "source": [
    "### LSTM 모델 without word2Vec"
   ]
  },
  {
   "cell_type": "code",
   "execution_count": 38,
   "metadata": {},
   "outputs": [],
   "source": [
    "# 하이퍼 파라미터 설정\n",
    "batch_size = 128\n",
    "EPOCHS = 15\n",
    "\n",
    "checkpoint_path = 'results/lstm.ckpt'\n",
    "checkpoint_dir = os.path.dirname(checkpoint_path)# Create a callback that saves the model's weights\n",
    "cp_callback = tf.keras.callbacks.ModelCheckpoint(filepath=checkpoint_path,\n",
    "                                save_weights_only=True,\n",
    "                                verbose=1)# Train the model with the new callback\n",
    "\n",
    "earlystopper = tf.keras.callbacks.EarlyStopping(monitor=\"val_loss\", patience=3, verbose=1)"
   ]
  },
  {
   "cell_type": "code",
   "execution_count": 39,
   "metadata": {},
   "outputs": [
    {
     "name": "stdout",
     "output_type": "stream",
     "text": [
      "Model: \"sequential_1\"\n",
      "_________________________________________________________________\n",
      " Layer (type)                Output Shape              Param #   \n",
      "=================================================================\n",
      " embedding_1 (Embedding)     (None, 30, 300)           4269900   \n",
      "                                                                 \n",
      " lstm_1 (LSTM)               (None, 128)               219648    \n",
      "                                                                 \n",
      " dense_2 (Dense)             (None, 64)                8256      \n",
      "                                                                 \n",
      " dense_3 (Dense)             (None, 1)                 65        \n",
      "                                                                 \n",
      "=================================================================\n",
      "Total params: 4,497,869\n",
      "Trainable params: 4,497,869\n",
      "Non-trainable params: 0\n",
      "_________________________________________________________________\n",
      "None\n",
      "Epoch 1/15\n",
      "893/896 [============================>.] - ETA: 0s - loss: 0.3881 - accuracy: 0.8235\n",
      "Epoch 1: saving model to results\\lstm.ckpt\n",
      "896/896 [==============================] - 77s 84ms/step - loss: 0.3882 - accuracy: 0.8235 - val_loss: 0.3543 - val_accuracy: 0.8464\n",
      "Epoch 2/15\n",
      "894/896 [============================>.] - ETA: 0s - loss: 0.3020 - accuracy: 0.8695\n",
      "Epoch 2: saving model to results\\lstm.ckpt\n",
      "896/896 [==============================] - 68s 76ms/step - loss: 0.3020 - accuracy: 0.8695 - val_loss: 0.3432 - val_accuracy: 0.8513\n",
      "Epoch 3/15\n",
      "894/896 [============================>.] - ETA: 0s - loss: 0.2517 - accuracy: 0.8936\n",
      "Epoch 3: saving model to results\\lstm.ckpt\n",
      "896/896 [==============================] - 81s 91ms/step - loss: 0.2515 - accuracy: 0.8937 - val_loss: 0.3618 - val_accuracy: 0.8504\n",
      "Epoch 4/15\n",
      "893/896 [============================>.] - ETA: 0s - loss: 0.2080 - accuracy: 0.9139\n",
      "Epoch 4: saving model to results\\lstm.ckpt\n",
      "896/896 [==============================] - 72s 80ms/step - loss: 0.2081 - accuracy: 0.9138 - val_loss: 0.4003 - val_accuracy: 0.8451\n",
      "Epoch 5/15\n",
      "896/896 [==============================] - ETA: 0s - loss: 0.1690 - accuracy: 0.9324\n",
      "Epoch 5: saving model to results\\lstm.ckpt\n",
      "896/896 [==============================] - 61s 68ms/step - loss: 0.1690 - accuracy: 0.9324 - val_loss: 0.4543 - val_accuracy: 0.8457\n",
      "Epoch 5: early stopping\n",
      "379/379 [==============================] - 12s 31ms/step - loss: 0.4616 - accuracy: 0.8428\n",
      "Test Score:  0.46160492300987244\n",
      "Test Accuracy:  0.8427577018737793\n"
     ]
    }
   ],
   "source": [
    "# Modeling - lstm without word2vec\n",
    "model_wo_w2v = Sequential()\n",
    "model_wo_w2v.add(Embedding(vocab_size, 300, input_length=max_len)) # keras에서 제공하는 embedding vector를 사용\n",
    "model_wo_w2v.add(LSTM(128, dropout=0.2))\n",
    "model_wo_w2v.add(Dense(64, activation = 'tanh'))\n",
    "model_wo_w2v.add(Dense(1, activation = 'sigmoid'))\n",
    "print(model_wo_w2v.summary())\n",
    "\n",
    "# 모델 컴파일\n",
    "model_wo_w2v.compile(optimizer='adam', loss='binary_crossentropy', metrics=['accuracy'])\n",
    "\n",
    "# 학습\n",
    "history = model_wo_w2v.fit(X_train, y_train, epochs=EPOCHS, callbacks=[earlystopper,cp_callback], batch_size=batch_size, validation_split=0.2)\n",
    "\n",
    "# Model Test\n",
    "score, acc = model_wo_w2v.evaluate(X_test, y_test, batch_size=batch_size)\n",
    "\n",
    "# Model Save\n",
    "model_wo_w2v.save('results/lstm.h5')\n",
    "\n",
    "# score\n",
    "print(\"Test Score: \", score)\n",
    "print(\"Test Accuracy: \", acc)"
   ]
  },
  {
   "attachments": {},
   "cell_type": "markdown",
   "metadata": {},
   "source": [
    "### 리뷰 예측해보기"
   ]
  },
  {
   "cell_type": "code",
   "execution_count": 40,
   "metadata": {},
   "outputs": [],
   "source": [
    "def sentiment_predict(new_sentence,loaded_model):\n",
    "    new_sentence = re.sub(r'[^ㄱ-ㅎㅏ-ㅣ가-힣 ]','', new_sentence)\n",
    "    new_sentence = okt.morphs(new_sentence, stem=True) # 토큰화\n",
    "    new_sentence = [word for word in new_sentence if not word in stopwords] # 불용어 제거\n",
    "    print(new_sentence)\n",
    "    encoded = tokenizer.texts_to_sequences([new_sentence]) # 정수 인코딩\n",
    "    pad_new = pad_sequences(encoded, maxlen = max_len) # 패딩\n",
    "    score = float(loaded_model.predict(pad_new)) # 예측\n",
    "    if(score > 0.5):\n",
    "        print(\"{:.2f}% 확률로 긍정 리뷰입니다.\\n\".format(score * 100))\n",
    "    else:\n",
    "        print(\"{:.2f}% 확률로 부정 리뷰입니다.\\n\".format((1 - score) * 100))"
   ]
  },
  {
   "cell_type": "code",
   "execution_count": 45,
   "metadata": {},
   "outputs": [
    {
     "name": "stdout",
     "output_type": "stream",
     "text": [
      "LSTM 모델 with Word2Vec\n",
      "['겁나다', '재밌다', '다음', '에도', '감독', '만들다', '영화', '무조건', '챙기다', '보다', '진짜']\n",
      "1/1 [==============================] - 0s 19ms/step\n",
      "98.20% 확률로 긍정 리뷰입니다.\n",
      "\n",
      "['이딴', '영화', '왜', '만들다', '임', '정말']\n",
      "1/1 [==============================] - 0s 18ms/step\n",
      "99.73% 확률로 부정 리뷰입니다.\n",
      "\n"
     ]
    }
   ],
   "source": [
    "print('LSTM 모델 with Word2Vec')\n",
    "sentiment_predict('겁나 재밌었음. 다음에도 이 감독이 만든 영화는 무조건 챙겨본다 진짜',model)\n",
    "sentiment_predict('이딴 영화를 왜 만드는거임 정말?',model)"
   ]
  },
  {
   "cell_type": "code",
   "execution_count": 46,
   "metadata": {},
   "outputs": [
    {
     "name": "stdout",
     "output_type": "stream",
     "text": [
      "LSTM 모델 without Word2Vec\n",
      "['겁나다', '재밌다', '다음', '에도', '감독', '만들다', '영화', '무조건', '챙기다', '보다', '진짜']\n",
      "1/1 [==============================] - 0s 18ms/step\n",
      "98.66% 확률로 긍정 리뷰입니다.\n",
      "\n",
      "['이딴', '영화', '왜', '만들다', '임', '정말']\n",
      "1/1 [==============================] - 0s 17ms/step\n",
      "99.74% 확률로 부정 리뷰입니다.\n",
      "\n"
     ]
    }
   ],
   "source": [
    "print('LSTM 모델 without Word2Vec')\n",
    "sentiment_predict('겁나 재밌었음. 다음에도 이 감독이 만든 영화는 무조건 챙겨본다 진짜',model_wo_w2v)\n",
    "sentiment_predict('이딴 영화를 왜 만드는거임 정말?',model_wo_w2v)"
   ]
  },
  {
   "attachments": {},
   "cell_type": "markdown",
   "metadata": {},
   "source": [
    "## 결론"
   ]
  },
  {
   "attachments": {},
   "cell_type": "markdown",
   "metadata": {},
   "source": [
    "주변 단어까지도 같이 학습하고 관계를 내포할 수 있는 Word2Vec로 LSTM을 학습시키면 더 나은 성능을 보이지 않을까 예상하고 시작한 프로젝트였다.\n",
    "\n",
    "word2vec 임베딩벡터를 사용한 것과 keras 임베딩 벡터를 사용한 두 모델을 비교해보았고 결과는 크게 다르지 않았다."
   ]
  }
 ],
 "metadata": {
  "kernelspec": {
   "display_name": "nsmc",
   "language": "python",
   "name": "nsmc"
  },
  "language_info": {
   "codemirror_mode": {
    "name": "ipython",
    "version": 3
   },
   "file_extension": ".py",
   "mimetype": "text/x-python",
   "name": "python",
   "nbconvert_exporter": "python",
   "pygments_lexer": "ipython3",
   "version": "3.7.13"
  },
  "orig_nbformat": 4
 },
 "nbformat": 4,
 "nbformat_minor": 2
}
